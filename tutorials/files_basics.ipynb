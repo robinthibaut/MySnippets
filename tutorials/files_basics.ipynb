{
 "cells": [
  {
   "cell_type": "markdown",
   "metadata": {},
   "source": [
    " # A Gentle Introduction to Python - Working with Files"
   ]
  },
  {
   "cell_type": "markdown",
   "metadata": {},
   "source": [
    "Robin Thibaut, Ghent University, 2022"
   ]
  },
  {
   "cell_type": "markdown",
   "metadata": {},
   "source": [
    "Awesome Python Tutorial For Beginners<br>\n",
    "This part explains how to deal with external data files in Python.<br>\n",
    "For example: txt files, csv files, JSON files, Excel files.<br>"
   ]
  },
  {
   "cell_type": "markdown",
   "metadata": {},
   "source": [
    "## Read From File:"
   ]
  },
  {
   "cell_type": "code",
   "execution_count": null,
   "metadata": {},
   "outputs": [],
   "source": [
    "my_file = open(\n",
    "    \"some_file.txt\"\n",
    ")  # if file is not in current directory use the absolute path (C:\\\\..\\\\some_file.txt)\n",
    "my_file.read()  # prints all the contents of the file (without skipping lines)\n",
    "my_file.seek(0)  # resets the cursor to first byte of the file (default = 0)\n",
    "my_file.readlines()  # reads each line as a string and puts them into a list (can be used with seek())\n",
    "my_file.close()  # closes the file from memory"
   ]
  },
  {
   "cell_type": "code",
   "execution_count": null,
   "metadata": {},
   "outputs": [],
   "source": [
    "def read_lines(num_lines, file):\n",
    "    my_line = open(file)\n",
    "    for i in range(num_lines):  # includes 0 and num_lines - 1 line (byte = 0)\n",
    "        print(\n",
    "            my_line.readline()\n",
    "        )  # line prints even if not in for loop (but for loop is faster)"
   ]
  },
  {
   "cell_type": "code",
   "execution_count": null,
   "metadata": {},
   "outputs": [],
   "source": [
    "read_lines(1, \"some_file.txt\")"
   ]
  },
  {
   "cell_type": "markdown",
   "metadata": {},
   "source": [
    "## Write to an existing file:"
   ]
  },
  {
   "cell_type": "code",
   "execution_count": null,
   "metadata": {},
   "outputs": [],
   "source": [
    "my_new_file = open(\n",
    "    \"some_file.txt\", \"w+\"\n",
    ")  # + can either be used when reading or writing\n",
    "my_new_file.write(\"Some Text Here\")"
   ]
  },
  {
   "cell_type": "markdown",
   "metadata": {},
   "source": [
    "## File Modes In Python:"
   ]
  },
  {
   "cell_type": "markdown",
   "metadata": {},
   "source": [
    " This argument is optional and the default value of it is \"r\" i.e read mode  \n",
    "<br>\n",
    "* \"r\" - Read - Default value. Opens a file for reading, error if the file does not exist<br>\n",
    "* \"a\" - Append - Opens a file for appending, creates the file if it does not exist<br>\n",
    "* \"w\" - Write - Opens a file for writing, creates the file if it does not exist<br>\n",
    "* \"x\" - Create - Creates the specified file, returns an error if the file exists<br>\n",
    "* In addition to modes for reading/writing we also have modes for working with text and binary files:<br>\n",
    "* \"t\" - Text - Default value. Text mode<br>\n",
    "* \"b\" - Binary - Binary mode (e.g images)<br>\n",
    "### How to use modes in a single string:<br>\n",
    "* r+ read and write (\"r+b\") means that we want to read and write in binary mode<br>\n",
    "* w+ read and write (\"w+t\") means that we want to read and write in text mode (the default mode)<br>\n",
    "Two most commonly used modes: Read(\"r\") and Read & Write(\"w\"). They are effectively opposites of each other"
   ]
  },
  {
   "cell_type": "code",
   "execution_count": null,
   "metadata": {},
   "outputs": [],
   "source": [
    "# Open the file for reading\n",
    "with open(<br>\n",
    "    \"some_file.txt\", \"r\"<br>\n",
    ") as file:  # [with] allows us to use the open file without having to close it<br>\n",
    "    # Using a [with] statement takes care of closing the file as well<br>\n",
    "    read_data = file.read()<br>"
   ]
  },
  {
   "cell_type": "code",
   "execution_count": null,
   "metadata": {},
   "outputs": [],
   "source": [
    "# Open the file for writing (default to overwrite)\n",
    "with open(<br>\n",
    "    \"some_file.txt\", \"w\"<br>\n",
    ") as file:  # [with] allows us to use the open file without having to close it<br>\n",
    "    # Using a [with] statement takes care of closing the file as well<br>\n",
    "    file.write(\"Hello world!\")"
   ]
  }
 ],
 "metadata": {
  "kernelspec": {
   "display_name": "Python 3",
   "language": "python",
   "name": "python3"
  },
  "language_info": {
   "codemirror_mode": {
    "name": "ipython",
    "version": 3
   },
   "file_extension": ".py",
   "mimetype": "text/x-python",
   "name": "python",
   "nbconvert_exporter": "python",
   "pygments_lexer": "ipython3",
   "version": "3.7.7"
  }
 },
 "nbformat": 4,
 "nbformat_minor": 2
}
