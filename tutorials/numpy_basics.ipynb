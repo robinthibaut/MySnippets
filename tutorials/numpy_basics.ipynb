{
 "cells": [
  {
   "cell_type": "markdown",
   "metadata": {},
   "source": [
    "# A Gentle Introduction to Python - Numpy"
   ]
  },
  {
   "cell_type": "markdown",
   "metadata": {},
   "source": [
    "Robin Thibaut, Ghent University, 2022"
   ]
  },
  {
   "cell_type": "code",
   "execution_count": 2,
   "metadata": {},
   "outputs": [],
   "source": [
    "import numpy as np"
   ]
  },
  {
   "cell_type": "markdown",
   "metadata": {},
   "source": [
    "numpy is a package that provides a high-performance multidimensional array object."
   ]
  },
  {
   "cell_type": "code",
   "execution_count": 3,
   "metadata": {},
   "outputs": [
    {
     "name": "stdout",
     "output_type": "stream",
     "text": [
      "How to create a numpy array:\n",
      "Easiest way (by calling the numpy function)\n",
      "<class 'numpy.ndarray'>\n",
      "(3,)\n",
      "1 2 3\n",
      "[1 2]\n",
      "\n"
     ]
    }
   ],
   "source": [
    "print(\"How to create a numpy array:\")\n",
    "print(\"Easiest way (by calling the numpy function)\")\n",
    "arr = np.array([1, 2, 3])  # Create a rank 1 array using a list\n",
    "print(type(arr))  # Prints \"<class 'numpy.ndarray'>\"\n",
    "print(arr.shape)  # Prints \"(3,)\"\n",
    "print(arr[0], arr[1], arr[2])  # Prints \"1 2 3\"\n",
    "print(arr[0:2])  # Works like in lists\n",
    "print(\"\")"
   ]
  },
  {
   "cell_type": "code",
   "execution_count": 4,
   "metadata": {},
   "outputs": [
    {
     "name": "stdout",
     "output_type": "stream",
     "text": [
      "(2, 3)\n",
      "1 2 4\n",
      "\n"
     ]
    }
   ],
   "source": [
    "arr = np.array([[1, 2, 3], [4, 5, 6]])  # Create a rank 2 array using lists of lists\n",
    "print(arr.shape)  # Prints \"(2, 3)\"\n",
    "print(arr[0, 0], arr[0, 1], arr[1, 0])  # Prints \"1 2 4\"\n",
    "print(\"\")"
   ]
  },
  {
   "cell_type": "markdown",
   "metadata": {},
   "source": [
    "Type of elements of the array can be specified:"
   ]
  },
  {
   "cell_type": "code",
   "execution_count": 5,
   "metadata": {},
   "outputs": [],
   "source": [
    "float_arr = np.array(\n",
    "    [1, 2, 3], dtype=np.float64\n",
    ")  # float64 is the default type in python"
   ]
  },
  {
   "cell_type": "markdown",
   "metadata": {},
   "source": [
    "If you want to change the type of an existing array (if you can):"
   ]
  },
  {
   "cell_type": "code",
   "execution_count": 6,
   "metadata": {},
   "outputs": [],
   "source": [
    "int_arr = np.array([1.0, 2.0, 3.0])  # The input list has floats in it!\n",
    "int_arr = int_arr.astype(np.int64)  # Now it uses int64 as datatype!"
   ]
  },
  {
   "cell_type": "markdown",
   "metadata": {},
   "source": [
    "Arithmetic operations with arrays are applied element-wise:"
   ]
  },
  {
   "cell_type": "code",
   "execution_count": 7,
   "metadata": {},
   "outputs": [
    {
     "name": "stdout",
     "output_type": "stream",
     "text": [
      "Element-wise computation between arrays and single numbers: \n",
      "Automatic element-wise computation between x and y; gives a new array with the same dimensions!\n",
      "[[ 6.  8.]\n",
      " [10. 12.]]\n",
      "[[-4. -4.]\n",
      " [-4. -4.]]\n",
      "[[ 5. 12.]\n",
      " [21. 32.]]\n",
      "[[0.2        0.33333333]\n",
      " [0.42857143 0.5       ]]\n",
      "[[1.0000e+00 6.4000e+01]\n",
      " [2.1870e+03 6.5536e+04]]\n",
      "\n"
     ]
    }
   ],
   "source": [
    "print(\"Element-wise computation between arrays and single numbers: \")\n",
    "x = np.array(\n",
    "    [[1, 2], [3, 4]], dtype=np.float64\n",
    ")  # Create a rank 2 array with floats in it!\n",
    "y = np.array(\n",
    "    [[5, 6], [7, 8]], dtype=np.float64\n",
    ")  # Create another rank 2 array with floats in it!\n",
    "# All of the following computations between arrays are element-wise!:\n",
    "print(\n",
    "    \"Automatic element-wise computation between x and y; gives a new array with the same dimensions!\"\n",
    ")  # Works element wise and gives a new array back!\n",
    "print(x + y)  # Elementwise sum;     [[ 6.0  8.0] [10.0 12.0]]\n",
    "print(x - y)  # Elementwise difference; [[-4.0 -4.0] [-4.0 -4.0]]\n",
    "print(x * y)  # Elementwise product; [[ 5. 12.] [21. 32.]]\n",
    "print(x / y)  # Elementwise division; [[0.2        0.33333333] [0.42857143 0.5       ]]\n",
    "print(x**y)  # Elementwise power;    [[  1.  64.] [ 2187. 8748.]]\n",
    "# Other operations like +=, *=, -= and **= are also possible with numpy arrays!\n",
    "print(\"\")"
   ]
  },
  {
   "cell_type": "code",
   "execution_count": 8,
   "metadata": {},
   "outputs": [
    {
     "name": "stdout",
     "output_type": "stream",
     "text": [
      "Element-wise computation between arrays and single numbers: \n",
      "Operations with single numbers: \n",
      "[[3. 4.]\n",
      " [5. 6.]]\n",
      "[[-1.  0.]\n",
      " [ 1.  2.]]\n",
      "[[2. 4.]\n",
      " [6. 8.]]\n",
      "[[0.5 1. ]\n",
      " [1.5 2. ]]\n",
      "[[ 1.  4.]\n",
      " [ 9. 16.]]\n"
     ]
    }
   ],
   "source": [
    "print(\"Element-wise computation between arrays and single numbers: \")\n",
    "print(\"Operations with single numbers: \")\n",
    "x = np.array(\n",
    "    [[1, 2], [3, 4]], dtype=np.float64\n",
    ")  # Create a rank 2 array with floats in it!\n",
    "print(x + 2)  # Elementwise sum with a number;       [[3. 4.] [5. 6.]]\n",
    "print(x - 2)  # Elementwise substraction with a number; [[-1. 0.] [1. 2.]]\n",
    "print(x * 2)  # Elementwise product with a number; [[2. 4.] [6. 8.]]\n",
    "print(x / 2)  # Elementwise division by a number; [[0.5 1. ] [1.5 2. ]]\n",
    "print(x**2)  # Elementwise exponentation by a number; [[ 1. 4.] [ 9. 16.]]"
   ]
  },
  {
   "cell_type": "markdown",
   "metadata": {},
   "source": [
    "It is also possible to apply basic linear algebra computations like the dot product of two vectors! Only these<br>\n",
    "linear algebra functions work on numpy arrays: 'dot', 'trace', 'transpose', 'linalg.inv' and 'linalg.diag'. (matrix<br>\n",
    "multiplication, trace of a matrix, transpose of a matrix, inverse of a square matrix and diagonal)"
   ]
  },
  {
   "cell_type": "code",
   "execution_count": 9,
   "metadata": {},
   "outputs": [
    {
     "name": "stdout",
     "output_type": "stream",
     "text": [
      "\n",
      "Dealing with higher dimensions: \n"
     ]
    }
   ],
   "source": [
    "print(\"\")\n",
    "print(\"Dealing with higher dimensions: \")\n",
    "x = np.array([[1, 2], [3, 4]])  # Create a rank 2 array with ints in it!\n",
    "y = np.array([[5, 6], [7, 8]])  # Create another rank 2 array with ints in it!\n",
    "v = np.array([9, 10])  # Create a rank 1 array with ints in it!\n",
    "w = np.array([11, 12])  # Create another rank 1 array with ints in it!"
   ]
  },
  {
   "cell_type": "markdown",
   "metadata": {},
   "source": [
    "User 'dot' to compute the inner product of two vectors (they must have the same number of elements):"
   ]
  },
  {
   "cell_type": "code",
   "execution_count": 12,
   "metadata": {},
   "outputs": [
    {
     "name": "stdout",
     "output_type": "stream",
     "text": [
      "The dot product of two vectors: (result is a number) \n",
      "219\n",
      "\n",
      "The dot product of two arrays; works just like the multiplication of matrices: \n",
      "[29 67]\n",
      "\n",
      "Using transpose function 'T' on x to compute the matrix product of x and y: \n",
      "[[19 22]\n",
      " [43 50]]\n",
      "\n",
      "Using T on x to transpose it: \n",
      "[[1 3]\n",
      " [2 4]]\n",
      "\n",
      "Using linalg.inv on x to invert it: \n",
      "[[-2.   1. ]\n",
      " [ 1.5 -0.5]]\n",
      "\n",
      "Using linalg.diag on y to extract the diagonals of it: \n",
      "[5 8]\n"
     ]
    }
   ],
   "source": [
    "print(\"The dot product of two vectors: (result is a number) \")\n",
    "print(v.dot(w))  # Prints 219\n",
    "print(\"\")\n",
    "print(\n",
    "    \"The dot product of two arrays; works just like the multiplication of matrices: \"\n",
    ")  # Works element-wise on the two arrays and gives an array back!\n",
    "print(x.dot(v))  # Prints [29 67]\n",
    "print(\"\")\n",
    "print(\n",
    "    \"Using transpose function 'T' on x to compute the matrix product of x and y: \"\n",
    ")  # Works element-wise on the two arrays and gives an array back!\n",
    "print(x.dot(y))  # Prints [[19 22] [43 50]]\n",
    "# The transpose function 'T' is used to transpose an array:\n",
    "print(\"\")\n",
    "print(\"Using T on x to transpose it: \")  # Gives you a new array back!\n",
    "print(x.T)  # Prints [[1 3] [2 4]]\n",
    "# The linalg.inv function is used to invert a square matrix:\n",
    "print(\"\")\n",
    "print(\"Using linalg.inv on x to invert it: \")  # Gives you a new array back!\n",
    "print(np.linalg.inv(x))  # Prints [[-2.   1. ] [1.5 -0.5]]\n",
    "# The linalg.diag function is used to extract the diagonals of an array:\n",
    "y = np.array([[5, 6], [7, 8]])  # Create another rank 2 array with ints in it!\n",
    "print(\"\")\n",
    "print(\n",
    "    \"Using diag on y to extract the diagonals of it: \"\n",
    ")  # Gives you a new array back!\n",
    "print(np.diag(y))  # Prints [5 8]"
   ]
  }
 ],
 "metadata": {
  "kernelspec": {
   "display_name": "Python 3",
   "language": "python",
   "name": "python3"
  },
  "language_info": {
   "codemirror_mode": {
    "name": "ipython",
    "version": 3
   },
   "file_extension": ".py",
   "mimetype": "text/x-python",
   "name": "python",
   "nbconvert_exporter": "python",
   "pygments_lexer": "ipython3",
   "version": "3.7.7"
  }
 },
 "nbformat": 4,
 "nbformat_minor": 2
}
