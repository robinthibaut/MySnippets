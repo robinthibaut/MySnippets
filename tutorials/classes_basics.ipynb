{
 "cells": [
  {
   "cell_type": "markdown",
   "source": [
    " # A Gentle Introduction to Python - Classes"
   ],
   "metadata": {
    "collapsed": false,
    "pycharm": {
     "name": "#%% md\n"
    }
   }
  },
  {
   "cell_type": "markdown",
   "source": [
    "Robin Thibaut, Ghent University, 2022"
   ],
   "metadata": {
    "collapsed": false,
    "pycharm": {
     "name": "#%% md\n"
    }
   }
  },
  {
   "cell_type": "markdown",
   "source": [
    "A **class** is similar to a blueprint or prototype -- it describes the nature of something that can be constructed<br>\n",
    "into an object. In Python, a **class** is simply an object with some extra instructions which define some special<br>\n",
    "behaviors when it is created into an object or constructed. The special behavior includes composing the class into<br>\n",
    "the object and forming its initial state, as well as various class or static methods. A **class** does not need to<br>\n",
    "have any methods at all, but most will have one or more. In Python, creating a class is easy, the syntax is similar<br>\n",
    "to our use of 'function'. However, there are some differences, namely:"
   ],
   "metadata": {
    "collapsed": false,
    "pycharm": {
     "name": "#%% md\n"
    }
   }
  },
  {
   "cell_type": "markdown",
   "source": [
    "* classes are not callable - they just remain as classes<br>\n",
    "* classes may have objects created from them - instances of the class/object type<br>\n",
    "* instances of classes seem to be mutable values while classes are immutable"
   ],
   "metadata": {
    "collapsed": false,
    "pycharm": {
     "name": "#%% md\n"
    }
   }
  },
  {
   "cell_type": "markdown",
   "source": [
    "The blueprint or prototype that describes the nature of something is the **class**. When you create<br>\n",
    "something based on this blueprint or prototype you create an **object**. The process of creating an object is<br>\n",
    "called **Instantiation**. So, when you create an object you instantiate a class. First comes the **class**<br>\n",
    "(aka. blueprint) and when you create things from that class you get a lot of objects (aka. things)."
   ],
   "metadata": {
    "collapsed": false,
    "pycharm": {
     "name": "#%% md\n"
    }
   }
  },
  {
   "cell_type": "markdown",
   "source": [
    "The first thing that comes to mind is the word 'self'.<br>\n",
    "All the member functions in class methods must have a self parameter.<br>\n",
    "The self parameter is used to access attributes and methods of the class.<br>\n",
    "There is no fixed rule on how to call it, but it is a general convention to use self as the name."
   ],
   "metadata": {
    "collapsed": false,
    "pycharm": {
     "name": "#%% md\n"
    }
   }
  },
  {
   "cell_type": "code",
   "execution_count": null,
   "metadata": {
    "pycharm": {
     "name": "#%%\n"
    }
   },
   "outputs": [],
   "source": [
    "class Person(object):\n",
    "\n",
    "    # The constructor of class Person takes no arguments.\n",
    "    # It will create an empty object with no name and no age attributes when no arguments are given.\n",
    "    def __init__(self):\n",
    "        print(f\"Creating an empty object {self}\")\n",
    "    def smile(self):\n",
    "        print(\"{self} says... I am smiling.\")\n",
    "    def bowHead(self):\n",
    "        print(\"{self} says... I am bowing my head.\")\n",
    "    def greet(self):\n",
    "        print(\"{self} says... Hello, how are you today?\")\n",
    "\n",
    "    # These functions/methods seem to be more generally called behaviors in the literature.\n",
    "    # They represent how objects of this type respond to various external stimuli.\n",
    "    def changeName(self, newName):\n",
    "        self.name = newName\n",
    "    def changeAge(self, newAge):\n",
    "        self.age = newAge\n",
    "    def displayAttrs(self):\n",
    "        print('Attributes of object \"{}\" are:'.format(self))\n",
    "        for attr in self.__dict__:\n",
    "            print('\"{attr}\" = \"{value}\"'.format(attr=attr, value=getattr(self, attr)))\n",
    "        if not self.__dict__:\n",
    "            print(\"No attributes found.\")\n",
    "\n",
    "    # Some functions/methods are fairly generic like smile, bowHead and greet. But some have been added just\n",
    "    # to this type of object like changeName and changeAge which can set its attributes 'name' and 'age'. Of course,\n",
    "    # they could have been included in the constructor, but it may be considered more self-documenting to include them\n",
    "    # separately."
   ]
  },
  {
   "cell_type": "markdown",
   "metadata": {
    "pycharm": {
     "name": "#%% md\n"
    }
   },
   "source": [
    " Example of creating an object from the class Person"
   ]
  },
  {
   "cell_type": "code",
   "execution_count": null,
   "metadata": {
    "pycharm": {
     "name": "#%%\n"
    }
   },
   "outputs": [],
   "source": [
    "p = Person()\n",
    "p.smile()\n",
    "p.changeAge(\"Philip\")\n",
    "print(p.name)"
   ]
  }
 ],
 "metadata": {
  "kernelspec": {
   "display_name": "Python 3",
   "language": "python",
   "name": "python3"
  },
  "language_info": {
   "codemirror_mode": {
    "name": "ipython",
    "version": 3
   },
   "file_extension": ".py",
   "mimetype": "text/x-python",
   "name": "python",
   "nbconvert_exporter": "python",
   "pygments_lexer": "ipython3",
   "version": "3.7.7"
  }
 },
 "nbformat": 4,
 "nbformat_minor": 2
}