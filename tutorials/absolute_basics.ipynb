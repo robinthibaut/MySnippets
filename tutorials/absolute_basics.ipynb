{
 "cells": [
  {
   "cell_type": "markdown",
   "metadata": {
    "pycharm": {
     "name": "#%% md\n"
    }
   },
   "source": [
    "# A Gentle Introduction to Python"
   ]
  },
  {
   "cell_type": "markdown",
   "metadata": {},
   "source": [
    "Robin Thibaut, Ghent University, 2022"
   ]
  },
  {
   "cell_type": "markdown",
   "metadata": {
    "pycharm": {
     "name": "#%% md\n"
    }
   },
   "source": [
    "Awesome Python Tutorial For Beginners\n",
    "It begins by taking you all the way from basic console commands and data types all the way to Object Oriented Programming in Python.\n",
    "I hope you enjoy it!"
   ]
  },
  {
   "cell_type": "code",
   "execution_count": 1,
   "metadata": {
    "pycharm": {
     "name": "#%%\n"
    }
   },
   "outputs": [],
   "source": [
    "import copy  # copy is  a module that allows you to copy objects. It comes with the standard library, but needs to\n",
    "# be imported. We will use it later in this tutorial."
   ]
  },
  {
   "cell_type": "markdown",
   "metadata": {
    "pycharm": {
     "name": "#%% md\n"
    }
   },
   "source": [
    "## Part #1 : Introduction And Overview"
   ]
  },
  {
   "cell_type": "code",
   "execution_count": 2,
   "metadata": {
    "pycharm": {
     "name": "#%%\n"
    }
   },
   "outputs": [
    {
     "name": "stdout",
     "output_type": "stream",
     "text": [
      "Hello World\n"
     ]
    }
   ],
   "source": [
    "print(\"Hello World\")  # Prints \"Hello World\" to the console."
   ]
  },
  {
   "cell_type": "markdown",
   "metadata": {
    "pycharm": {
     "name": "#%% md\n"
    }
   },
   "source": [
    "## Part #2 : Variables And Data Types"
   ]
  },
  {
   "cell_type": "code",
   "execution_count": 3,
   "metadata": {
    "pycharm": {
     "name": "#%%\n"
    }
   },
   "outputs": [],
   "source": [
    "my_var = \"Hello\"  # This is a string variable, a string is a collection of characters.\n",
    "my_char = \"c\"  # This is a character.\n",
    "my_int = 12  # Integers are whole numbers, whereas floats are decimals.\n",
    "my_float = 19.99  # This is a floating point number (decimal).\n",
    "my_bool = True  # Boolean Values are True or False, these are usually used for condition checking."
   ]
  },
  {
   "cell_type": "markdown",
   "metadata": {
    "pycharm": {
     "name": "#%% md\n"
    }
   },
   "source": [
    "## Part #3 : Math Operators"
   ]
  },
  {
   "cell_type": "code",
   "execution_count": 4,
   "metadata": {
    "pycharm": {
     "name": "#%%\n"
    }
   },
   "outputs": [
    {
     "name": "stdout",
     "output_type": "stream",
     "text": [
      "5 + 2 = 7\n",
      "5 - 2 = 3\n",
      "5 * 2 = 10\n",
      "5 / 2 = 2.5\n",
      "5 // 2 = 2\n",
      "5 ** 2 = 25\n",
      "1 + 6 * 3 = 19\n"
     ]
    }
   ],
   "source": [
    "print(\"5 + 2 =\", 5 + 2)  # Addition (+) prints \"5 + 2 = 7\"\n",
    "print(\"5 - 2 =\", 5 - 2)  # Subtraction (-) prints \"5 - 2 = 3\"\n",
    "print(\"5 * 2 =\", 5 * 2)  # Multiplication (*) prints \"5 * 2 = 10\"\n",
    "print(\n",
    "    \"5 / 2 =\", 5 / 2\n",
    ")  # Division (/) prints \"5 / 2 = 2.5\" this is because one of the values being divided is a float value, meaning it\n",
    "# is treated as a float!\n",
    "print(\n",
    "    \"5 // 2 =\", 5 // 2\n",
    ")  # Floor Division (//) is similar to division, but it removes the remainder and rounds down to the nearest whole\n",
    "# number. Prints \"5 // 2 = 2\"\n",
    "print(\n",
    "    \"5 ** 2 =\", 5**2\n",
    ")  # Exponent (**) Prints \"5 ** 2 = 25\"   5 squared in this case!\n",
    "print(\n",
    "    \"1 + 6 * 3 =\", 1 + 6 * 3\n",
    ")  # Operator Precedence dictates the order of execution of operations. PEDMAS applies to Python, as it does to all\n",
    "# maths. Parentheses: (), Exponents: **, Multiplication or Division (from left to right), Addition or Subtraction\n",
    "# from left to right. In the example above Multiplication will be done first because (*) has higher precedence than (\n",
    "# +). Prints \"1 + 6 * 3 = 19\""
   ]
  },
  {
   "cell_type": "markdown",
   "metadata": {
    "pycharm": {
     "name": "#%% md\n"
    }
   },
   "source": [
    "## Part #4 : Type Conversion And Casting<br>\n",
    "Casting is the process of changing the type of data."
   ]
  },
  {
   "cell_type": "code",
   "execution_count": 5,
   "metadata": {
    "pycharm": {
     "name": "#%%\n"
    }
   },
   "outputs": [],
   "source": [
    "x = int(\n",
    "    1\n",
    ")  # x will be 1 and print out 1 because int(1) converts 1 to an integer value of 1.\n",
    "y = int(\n",
    "    7.0\n",
    ")  # y will be 7 and print out 7 because python removes any decimals on floats to make them integers. Integers can be\n",
    "# converted to floats however! We can convert ints to floats using float(1), this would make 1 a float value such as\n",
    "# 1.0. More on that later!\n",
    "z = float(\n",
    "    \"1\"\n",
    ")  # z will be 1 and print out 1 because there are many ways we can go about converting strings to float values,\n",
    "# one of which being in the form float(\"1\") where \"1\" contains the characters \"1\". These characters will be cast and a\n",
    "# float value of 1 will result from it!\n",
    "n = float(\n",
    "    \"nan\"\n",
    ")  # n will be nan, standing for not a number and when printed will also say not a number due to the fact that this\n",
    "# value does not exist in maths land! Woah! Magic Python!"
   ]
  },
  {
   "cell_type": "markdown",
   "metadata": {
    "pycharm": {
     "name": "#%% md\n"
    }
   },
   "source": [
    "## Part #5 : User Input"
   ]
  },
  {
   "cell_type": "code",
   "execution_count": null,
   "metadata": {
    "pycharm": {
     "name": "#%%\n"
    }
   },
   "outputs": [],
   "source": [
    "name = input(\n",
    "    \"What is your name?\"\n",
    ")  # Let's use this cool 'input' built-in method to take some input from the user!\n",
    "print(\n",
    "    \"Hello\", name, \"nice to meet you!\"\n",
    ")  # This is used by typing input() and in the parameters we type a string value\n",
    "age = input(\n",
    "    \"Enter your age: \"\n",
    ")  # containing the question we would like answered by the user! The first line of code above asks what is your name?\n",
    "# age = \"Enter your age:\""
   ]
  },
  {
   "cell_type": "markdown",
   "metadata": {
    "pycharm": {
     "name": "#%% md\n"
    }
   },
   "source": [
    "## Part #6 : String Manipulation + User Input"
   ]
  },
  {
   "cell_type": "code",
   "execution_count": null,
   "metadata": {
    "pycharm": {
     "name": "#%%\n"
    }
   },
   "outputs": [],
   "source": [
    "age = int(\n",
    "    input(\"Enter your age: \")\n",
    ")  # This line is pretty much the same as the previous cell, however we are taking advantage of type casting here to convert\n",
    "# the input from a string to an integer using the int() built-in method! This means we can do maths with it later on!\n",
    "dog_years = (\n",
    "    age * 7\n",
    ")  # note that we are not printing the value of age here! We are just assigning it to a new variable dog_years,\n",
    "# which contains the equation which converts human years to dog years! (1 human year = 7 dog years)\n",
    "print(\n",
    "    age, \"human years is equal to\", dog_years, \"dog years!\"\n",
    ")  # Next we can print out both our human years and our dog years on separate lines:"
   ]
  },
  {
   "cell_type": "markdown",
   "metadata": {
    "pycharm": {
     "name": "#%% md\n"
    }
   },
   "source": [
    "## Part #7 : While Loop And Increment Operator"
   ]
  },
  {
   "cell_type": "code",
   "execution_count": null,
   "metadata": {
    "pycharm": {
     "name": "#%%\n"
    }
   },
   "outputs": [],
   "source": [
    "i = 1  # Initialize i with a value of 1 so that it may enter our loop\n",
    "while (\n",
    "    i <= 5\n",
    "):  # Create a while loop where expression (i<= 5) is true. Will execute as long as expression is true. { Below shows\n",
    "    # what i will equal after each loop iteration }\n",
    "    print(\n",
    "        \"*\" * i\n",
    "    )  # 5 iterations means print '*' 5 times where each * is on a new line as print by default prints things on\n",
    "    # different lines during each invocation or call. Print Multiply '*' by i and return result. This will always\n",
    "    # execute first and then loop back around! Below shows what i will equal after each loop iteration:\n",
    "    i = (\n",
    "        i + 1\n",
    "    )  # Loop Iteration 1: i will equal 2 because we are incrementing it by 1 via i+=1; Loop Iteration 2: i will\n",
    "    # equal 3 because we are incrementing it by 1 via i+=1; Loop Iteration 3: i will equal 4 because we are\n",
    "    # incrementing it by 1 via i+=1; And so on... Until while loop expression becomes false and loop terminates!\n",
    "\n",
    "    # Note that you need a space between the asterisk symbol and what you want to appear after, else no space appears: (\n",
    "    # i.e. - print('*'*i) = print('*****') whereas print('* '*i) = print('* * * * * ')). When printing 5 asterisks in\n",
    "    # this manner, if there is no space between them, they all stick together like so: '*****' vs '* * * * *'."
   ]
  },
  {
   "cell_type": "markdown",
   "metadata": {
    "pycharm": {
     "name": "#%% md\n"
    }
   },
   "source": [
    "## Part #8 : For Loop And Range Function + Increment Operator"
   ]
  },
  {
   "cell_type": "code",
   "execution_count": null,
   "metadata": {
    "pycharm": {
     "name": "#%%\n"
    }
   },
   "outputs": [],
   "source": [
    "for i in range(1, 6):\n",
    "    print(i)\n",
    "# range allows us to define where our for loop starts (1) and where it ends (6 can be thought of as\n",
    "# NumberOfIterations at which point loop will terminate), initializing i to 1 before starting loop then increasing\n",
    "# its value by 1 until numberOfIterations == 6. Whole numbers only for range function! Starting with 0 instead of 1\n",
    "# does not change results because python starts counting at 0 for lists so either way we get 0-5. The result is also\n",
    "# identical had we just done range(6): The code would have still started at 0 then gone up by one where its final\n",
    "# value would be 5 after executing 6 times! Note that it always starts at 0 when doing range(n)."
   ]
  },
  {
   "cell_type": "code",
   "execution_count": null,
   "metadata": {
    "pycharm": {
     "name": "#%%\n"
    }
   },
   "outputs": [],
   "source": [
    "for i in range(\n",
    "    4\n",
    "):  # This is the same for loop as above but with a different integer value! This loop starts at 0 instead of 1 and\n",
    "    # ends at numberOfIterations -1. This means that the loop will execute 4 times!\n",
    "    print(\n",
    "        i\n",
    "    )  # Print all values in order of iteration! Range function is really useful and again make sure you look it up\n",
    "    # if you are not 100% comfortable with it!"
   ]
  },
  {
   "cell_type": "code",
   "execution_count": null,
   "metadata": {
    "pycharm": {
     "name": "#%%\n"
    }
   },
   "outputs": [],
   "source": [
    "fruits = [\n",
    "    \"Apples\",\n",
    "    \"Bananas\",\n",
    "    \"Grapes\",\n",
    "    \"Oranges\",\n",
    "    \"Pineapple\",\n",
    "]  # Create a list called fruits which will hold all our fruit names! List indices start at 0! Lists can hold any\n",
    "# data type! Strings can also be indexed like a list! Create your own list of some sort then print its elements out\n",
    "# to make sure you fully understand how this works! Always check your final values in lists by printing out data from\n",
    "# index positions! Lists are literally just variables which hold a group of other variables where these other\n",
    "# variables hold their respective values! In the case of my example above each element is of data type string! Try\n",
    "# creating your own lists!"
   ]
  },
  {
   "cell_type": "code",
   "execution_count": null,
   "metadata": {
    "pycharm": {
     "name": "#%%\n"
    }
   },
   "outputs": [],
   "source": [
    "for fruit in fruits:\n",
    "    # The for loop above called for i in range(4), now we will change i to the word fruit in order to replace fruit\n",
    "    # with Apples, then Bananas then Grapes until last value which is Pineapple where it stops because it reached end\n",
    "    # value or numberOfIterations! This is another cool built-in method which we can also use to iterate through\n",
    "    # every element in our 'fruits' list. We can just do one more example where we create our own list full of\n",
    "    # numbers and integers! See how far you get!\n",
    "    print(fruit)\n",
    "    # Try creating your own lists of numbers or (Works for strings too) letters then print elements out to\n",
    "    # determine what sort of data type their respective values are."
   ]
  },
  {
   "cell_type": "markdown",
   "metadata": {
    "pycharm": {
     "name": "#%% md\n"
    }
   },
   "source": [
    "## Part #9 : If Statement And Comparison Operators"
   ]
  },
  {
   "cell_type": "code",
   "execution_count": null,
   "metadata": {
    "pycharm": {
     "name": "#%%\n"
    }
   },
   "outputs": [],
   "source": [
    "if (\n",
    "    13 < 20\n",
    "):  # if statement checks condition given against some kind of truth value. If condition is True it proceeds to\n",
    "    # execute first line of code then continues to execute code after until completed.\n",
    "    print(\n",
    "        \"13 < 20\"\n",
    "    )  # A condition can be created using one or more comparison operator: < : Less Than, > : Greater Than,\n",
    "    # <= : Less Than Or Equal To , >= : Greater Than Or Equal To  Which are all self explanatory. == : Equal To (Two\n",
    "    # Equal Signs Because One Is Already Used For Assignment Operator) != : Not Equal To These comparison operators\n",
    "    # can be used on both numbers and strings where they can be used to check for equality, their result will always\n",
    "    # be a Boolean type (True or False). We can also use compound statements such as \"and\" and \"or\" which can use\n",
    "    # more than one condition in order to come to a conclusion. One of the most important things to take away from\n",
    "    # this is that you must write your if statement with a colon at the ending and indent each line of code with 4\n",
    "    # spaces or a tab in order to execute it properly! Everything after this colon is considered by Python to be\n",
    "    # part of our if-block or if statement's suite of statements (indentation is important here). In short this line:\n",
    "    # if 13<20: means that if our condition is true then proceed to execute code in if-block.\n",
    "    print(\n",
    "        \"condition\"\n",
    "    )  # We could cover nested-blocks as well, but for now know that these simply exist inside another block of\n",
    "    # code this will make more sense after we cover functions and variable scope."
   ]
  },
  {
   "cell_type": "markdown",
   "metadata": {
    "pycharm": {
     "name": "#%% md\n"
    }
   },
   "source": [
    "## Part #10 : If Else Statement + Comparison Operators And Logical Operators"
   ]
  },
  {
   "cell_type": "code",
   "execution_count": null,
   "metadata": {
    "pycharm": {
     "name": "#%%\n"
    }
   },
   "outputs": [],
   "source": [
    "x = 5\n",
    "y = 8\n",
    "z = 5"
   ]
  },
  {
   "cell_type": "code",
   "execution_count": null,
   "metadata": {
    "pycharm": {
     "name": "#%%\n"
    }
   },
   "outputs": [],
   "source": [
    "if (\n",
    "    z < y > x\n",
    "):  # Here we have a compound comparison operator. This means we are combining more than one comparison operator( z <\n",
    "    # y > x). Here we are saying execute if z(5) is less than y(8) AND y(8) is greater than x(5). If our compound\n",
    "    # statement evaluates to true then execute code in conditional block. Notice how we need to use 2 comparison\n",
    "    # operators as it says both y and x must be greater in order to execute code!:\n",
    "    print(\"y is greater than z and y is greater than x\")"
   ]
  },
  {
   "cell_type": "code",
   "execution_count": null,
   "metadata": {
    "pycharm": {
     "name": "#%%\n"
    }
   },
   "outputs": [],
   "source": [
    "if (\n",
    "    z <= x\n",
    "):  # An Else Statement Can Be Used To Execute Code If Condition Fails! You Must Indent Each Line Like The If\n",
    "    # Statement! Example:\n",
    "    print(\n",
    "        \"z is less than or equal to x\"\n",
    "    )  # Statements here will only run if condition given above evaluates to True otherwise program will not run this\n",
    "    # else block!\n",
    "else:  # If condition/expression does not hold true, then else will be executed instead where it can serve as a\n",
    "    # fallback function for when our first condition fails.\n",
    "    print(\n",
    "        \"x is greater than z\"\n",
    "    )  # Statements here will only be executed if the original condition does not hold!"
   ]
  },
  {
   "cell_type": "code",
   "execution_count": null,
   "metadata": {
    "pycharm": {
     "name": "#%%\n"
    }
   },
   "outputs": [],
   "source": [
    "age = int(\n",
    "    input(\"Enter Age: \")\n",
    ")  # Note that this only works when one condition must hold true. In cases where we want an input value to be equal\n",
    "# to one value or another then we would have to use an 'if elif else' (if-else-if)."
   ]
  },
  {
   "cell_type": "code",
   "execution_count": null,
   "metadata": {
    "pycharm": {
     "name": "#%%\n"
    }
   },
   "outputs": [],
   "source": [
    "if (\n",
    "    age >= 5 and age <= 10\n",
    "):  # This if statement checks whether age is greater than or equal to 5 AND less than or equal to 10 using a logical\n",
    "    # operator \"and\". Which means both conditions must hold true in this case!, It has been met and we can now execute\n",
    "    # the code in the following block\n",
    "    print(\"Go To Primary School\")"
   ]
  },
  {
   "cell_type": "code",
   "execution_count": null,
   "metadata": {
    "pycharm": {
     "name": "#%%\n"
    }
   },
   "outputs": [],
   "source": [
    "elif (\n",
    "    age >= 11 and age <= 18\n",
    "):  # Allows us to chain another statement after our initial if block, checking whether the value of age is greater\n",
    "    # than or equal to 11 AND less than or equal to 18 using the \"and\" logical operator. Notice how we can use\n",
    "    # nested-blocks here by executing the code here only if THIS condition holds true! If it does, we can then\n",
    "    # execute code in this block!\n",
    "    print(\"Go To Secondary School\")"
   ]
  },
  {
   "cell_type": "code",
   "execution_count": null,
   "metadata": {
    "pycharm": {
     "name": "#%%\n"
    }
   },
   "outputs": [],
   "source": [
    "else:  # If no other condition holds true we can simply print out this message because it will not make sense for a\n",
    "    # person under the age of 5 to attend school in this context.\n",
    "    print(\"Go To Tertiary School\")"
   ]
  },
  {
   "cell_type": "markdown",
   "metadata": {
    "pycharm": {
     "name": "#%% md\n"
    }
   },
   "source": [
    "## Part #11 : List, Tuples and Sets"
   ]
  },
  {
   "cell_type": "code",
   "execution_count": null,
   "metadata": {
    "pycharm": {
     "name": "#%%\n"
    }
   },
   "outputs": [],
   "source": [
    "fruits = [\n",
    "    \"Apples\",\n",
    "    \"Oranges\",\n",
    "    \"Bananas\",\n",
    "]  # This will create a list variable that contains 3 string values. Lists can hold many different types of data and\n",
    "# can be indexed in the same way strings are! It is important to note the difference between mutable and immutable\n",
    "# variables. Mutable variables are ones which can be changed in place whilst immutable variables cannot be."
   ]
  },
  {
   "cell_type": "markdown",
   "metadata": {
    "pycharm": {
     "name": "#%% md\n"
    }
   },
   "source": [
    "Appending, removing and changing values in lists is perfectly fine to do on the spot as they are considered<br>\n",
    "mutable. Strings and Tuple or two examples of immutable data types. You can not change values stored in strings or tuples by indexing them instead must create a brand-new variable. Let's talk about tuples now!\n",
    "\n",
    "Tuples are similar to lists, except that they are surrounded by parenthesis instead of brackets, and their data storage variety is also limited. \n",
    "\n",
    "Tuples values are unchangeable. They can, however, be removed or added to entirely- a new variant called concatenation is used to accomplish this, but it is much slower than standard appending operations offered by lists, so lists should be preferred over tuples unless there is a compelling reason not to! Tuples use less memory than lists and are useful in situations such as sequences with an undefined length (such as the contents of a file). Tuples, such as lists, have an index value of 0 and can be indexed in the same way that strings and lists can! You can use the multiple assignment technique if you assign a tuple to a variable! \n",
    "\n",
    "Multiple assignment denotes the ability to assign a single variable to more than one value! \n",
    "x, y = 1,2 is an example of this. In this case, x is set to 1 and y is set to 2. The comma serves as a connector for assigning multiple values with a single line of code. \n",
    "\n",
    "Sets are another type of data structure that you should be familiar with. Try making your own set and printing out all of its elements to get a sense of what it does. \n",
    "\n",
    "In summary, sets behave similarly to an unordered list, but they cannot contain duplicate values! After creating your own set, use methods like print(yourSetVariableName) to print out its elements, and then go ahead and start looking up how to perform many different operations and methods with it, such as intersection, union, and so on, and try writing your own code using these! Remember that sets contain unique values, and values contained within them cannot be indexed; otherwise, we'd end up with duplicates! The sooner you learn about these built-in data structures, the sooner you'll be able to use them! Finally, keep in mind that when storing data, it is critical to not only store what you need, but also to store it correctly! Use lists or tuples when you know exactly what data you need but don't care about ordering; use sets when you care about having duplicate free collections but don't need indexing!"
   ]
  },
  {
   "cell_type": "code",
   "execution_count": null,
   "metadata": {
    "pycharm": {
     "name": "#%%\n"
    }
   },
   "outputs": [],
   "source": [
    "fruits = (\n",
    "    \"Apples\",\n",
    "    \"Oranges\",\n",
    "    \"Bananas\",\n",
    "    \"Grapes\",\n",
    ")  # This will create a tuple variable that contains 4 string values.\n",
    "no_duplicates = set(\n",
    "    {}\n",
    ")  # We create a new set which is surrounded by curly brackets {}, however this time our set is empty because we have\n",
    "# nothing inside the curly braces. We could simply have done no_duplicates = {} but then we would end up with an\n",
    "# empty dictionary instead so make sure you get familiar with these structures quickly!"
   ]
  },
  {
   "cell_type": "markdown",
   "metadata": {
    "pycharm": {
     "name": "#%% md\n"
    }
   },
   "source": [
    "## Part #11 : Dictionaries"
   ]
  },
  {
   "cell_type": "markdown",
   "metadata": {},
   "source": [
    "Dictionary's are a unique type of data structure in that they do not use indices at all, instead relying on keys that are linked to values! \n",
    "Keys can be any type of immutable data, such as numbers or strings. Any data type, including lists and dictionaries, can be used as values! Dictionaries are called \"mappings\" because they \"map\" or \"associate\" keys to values! SomeDictionaryVariableName = key1: value1, key2: value2, etc. is the general syntax for creating dictionaries. By simply indexing dictionaries, we can obtain values! To index them, we use the form of someDictionaryVariableName[key] to assign our dictionary variable to a key, which returns the value associated with the key we supplied. If the key does not exist, a key error will be thrown! someDictionaryVariableName is used to see if a key exists in the dictionary. get(key) returns None if the key does not exist; otherwise, it returns the value! It is important to remember that while dictionaries always have unique keys, they can have duplicate values! Using get to access items is much faster than using [key]! Use get if you're trying to print out input that requires a key  but you're not sure if it's in your dictionary (we'll cover exceptions and error handling # soon!). Let's take a look at some of the operations we can do with our newly created accounts dictionary:"
   ]
  },
  {
   "cell_type": "code",
   "execution_count": null,
   "metadata": {
    "pycharm": {
     "name": "#%%\n"
    }
   },
   "outputs": [],
   "source": [
    "account = {\n",
    "    \"username\": \"python\",\n",
    "    \"password\": \"123\",\n",
    "    \"balance\": 100.0,\n",
    "}  # This will create a dictionary variable that contains 3 keys and 3 values. \n",
    "print(account[\"username\"])  # This will print out python\n",
    "account[\"username\"] = \"johndoe\"  # This will change the username from python to johndoe!\n",
    "print(\n",
    "    account[\"username\"]\n",
    ")  # This will print out johndoe now that we overwrote our original key's value!\n",
    "account[\n",
    "    \"balance\"\n",
    "] += 50  # This will increment our balance by 50 (add 50 to it) ! Resulting in account['balance'] being equal to 150\n",
    "# as it is now!\n",
    "del account[\n",
    "    \"password\"\n",
    "]  # This will remove our password key from accounts dictionary! Remember we can only delete things by their keys!\n",
    "print(\n",
    "    account\n",
    ")  # EXPLAIN THIS PRINT OUT! Answers: Our new dictionary should look like this: {'username': 'johndoe', 'balance':\n",
    "# 150}. Index keys in dictionaries cannot be unassigned like the way list elements can, if you want to delete\n",
    "# something from a dictionary then you must use del (delete) built-in method! We can also do add new keys and values\n",
    "# to our dictionary using this form: someDictionaryVariableName[key] = value . Sometimes however we might have\n",
    "# situations where we store empty dictionaries, or dictionaries which were copied off of other real ones! Let's say\n",
    "# that all our accounts dictionaries are copies of account, how would we fill them with separate values and not\n",
    "# overwrite each other!?. Well one way we could do this is by declaring an empty dictionary and then filling it with\n",
    "# different sets of data afterwards. In order to do this let's create some empty dictionaries, fill one and see what\n",
    "# happens:\n",
    "empty_dict1 = {}  # We create an empty dictionary\n",
    "empty_dict2 = {}  # We create another empty dictionary\n",
    "empty_dict1[\"username\"] = \"johndoe\"  # We add a new key and value pair to our first dictionary!\n",
    "print(\n",
    "    empty_dict2\n",
    ")  # We print out empty_dict2 to determine whether inserting data into a different dictionary affects another\n",
    "# that has the same structure as the first! Answer: {}, no it does not! We could also do things like make copies of\n",
    "# dictionaries using the built-in copy() method:\n",
    "empty_dict3 = copy.copy(\n",
    "    account\n",
    ")  # We create a new dictionary empty_dict3 and this time we make it a copy of our original accounts dictionary. When\n",
    "# we print out its contents to verify this has worked we will be presented with a copy of our account dictionary!\n",
    "# Note that when you use something like empty_copy = account, only the reference to the original account variable is\n",
    "# copied, not the contained values! When we print you should see {'username': 'johndoe', 'balance': 150}"
   ]
  },
  {
   "cell_type": "markdown",
   "metadata": {
    "pycharm": {
     "name": "#%% md\n"
    }
   },
   "source": [
    "## Part #12 : Mutable Versus Immutable Types"
   ]
  },
  {
   "cell_type": "code",
   "execution_count": null,
   "metadata": {
    "pycharm": {
     "name": "#%%\n"
    }
   },
   "outputs": [],
   "source": [
    "myint = 10  # Integers are immutable meaning that once created we can not change the contained value in place but we\n",
    "# can overwrite it entirely. The same goes for strings, strings are also immutable meaning you can't change their\n",
    "# contained values either! Try creating your own integer variable and string variable and see what happens when you\n",
    "# attempt to modify them!\n",
    "print(myint)  # This will print out 10 because it was originally 10\n",
    "myint = 20  # This will overwrite value of myint stored in memory space (will not modify it in place) but instead\n",
    "# create new myint variable and leave old one to garbage collection. Old space will be overwritten with new myint\n",
    "# value this time being 20!\n",
    "print(\n",
    "    myint\n",
    ")  # This will now print out 20! Because myint got overwritten but never modified in place! The same goes for\n",
    "# strings! Here is an example with strings: Strings are actually sequences which\n",
    "# means that if given an index in astring[0] we will get whatever character is located at index 0 within our string,\n",
    "# if such an index does not exist then python throws an error telling us of this. This means however that we can play\n",
    "# around with strings and slice them, split them or even join them together! In order to join two strings together\n",
    "# we use something called concatenation. Concatenation is when we add one string to another like so:\n",
    "# someStringVariableName + \"SomeOtherString\". This works because \"+\" is overloaded and here means concatenation!\n",
    "# Concatenation always creates a new string, it does not modify either of its parameters in place! So be careful\n",
    "# when performing operations on strings! Last but not the least lets talk about lists since these are mutable,\n",
    "# and we can modify the contained values in them if we so choose!\n",
    "mylist = [1, 2, 3, 4]  # Create new list with values 1-4\n",
    "print(mylist)  # Print out values in mylist, which will be (1,2,3,4)\n",
    "mylist[\n",
    "    -1\n",
    "] = 5  # Change last value in list from 4 to 5 using square bracket indexing of list (using negative numbers means we\n",
    "# start from the end)!\n",
    "print(\n",
    "    mylist\n",
    ")  # Print out values in mylist again this time it will be (1,2,3,5) because we modified the last value in the list!\n",
    "mylist.append(7)  # Use append built-in method to append new value 7 at end of list!\n",
    "print(\n",
    "    mylist\n",
    ")  # Should print out (1,2,3,5,7) now because we appended 7 to our original list!"
   ]
  },
  {
   "cell_type": "markdown",
   "metadata": {},
   "source": [
    "## Part #13 : Comments And DocStrings"
   ]
  },
  {
   "cell_type": "code",
   "execution_count": null,
   "metadata": {},
   "outputs": [],
   "source": [
    "#print(13 + 9 + 11 + 14 + 12 + 9 + 9 + 5 + 9 + 8 + 7 + 5 + 6 + 6 + 9)"
   ]
  },
  {
   "cell_type": "markdown",
   "metadata": {
    "pycharm": {
     "name": "#%% md\n"
    }
   },
   "source": [
    "This is a single line comment which ignores everything after the hash symbol until it hits a newline (line break)! This can also be done inside loops or functions! These are useful for leaving notes for yourself when other people who read your code don't always know what you mean! It also helps keep track of what you have done with code and what you want to do next! \n",
    "Code without comments is always messy and unorganized! Docstrings however are useful for both you and people who read your code!\n",
    "Docstrings are used to describe a function's purpose or method's functionality for example. You can get your\n",
    "docstring back by simply calling yourFunctionName.__doc__ . Try entering the following lines of code into PyCharm\n",
    "and see what happens:"
   ]
  },
  {
   "cell_type": "code",
   "execution_count": null,
   "metadata": {
    "pycharm": {
     "name": "#%% md\n"
    }
   },
   "outputs": [],
   "source": [
    "\"\"\"\n",
    " This is a multiline/block comment, it's similar to single line comments except they span multiple contiguous lines <br>\n",
    "instead of just one! They are done by placing three single or double quotes in front of the actual comment and then <br>\n",
    "again after it has been written. These can also be placed inside loops, functions or outside of them if you so <br>\n",
    "ease but will still have the desired effect! \n",
    "<br>\n",
    "This will print nothing to the console but if you hover over it<br>\n",
    "then look at its tooltip then you will see it is there! You can also right-click on it and select view docstring<br>\n",
    "to open up a window containing this text! Note that comments and docstrings are strip out by python when it<br>\n",
    "executes so don't worry about taking up memory space when writing code!\n",
    "\"\"\""
   ]
  },
  {
   "cell_type": "code",
   "execution_count": null,
   "metadata": {
    "pycharm": {
     "name": "#%%\n"
    }
   },
   "outputs": [],
   "source": [
    "def message():  # Declare function message() which does not take any parameters.\n",
    "    \"\"\"Prints a message to the console\"\"\"  # This is our function's doc string, the reason it is triple quoted is\n",
    "    # because it is a more than one line!\n",
    "    print(\"Hello World!\")  # Print message \"Hello World!\" to console!"
   ]
  },
  {
   "cell_type": "code",
   "execution_count": null,
   "metadata": {
    "pycharm": {
     "name": "#%%\n"
    }
   },
   "outputs": [],
   "source": [
    "message()  # Invoke our function!\n",
    "print(message.__doc__)  # Print our function's docstring to console!"
   ]
  },
  {
   "cell_type": "markdown",
   "metadata": {
    "pycharm": {
     "name": "#%% md\n"
    }
   },
   "source": [
    "## Part #14 : Functions"
   ]
  },
  {
   "cell_type": "code",
   "execution_count": null,
   "metadata": {
    "pycharm": {
     "name": "#%%\n"
    }
   },
   "outputs": [],
   "source": [
    "def myfunc(\n",
    "    n,\n",
    "):  # Define function that takes single parameter. When we call a function we pass arguments via parameters. In the\n",
    "    # example below our argument is 'n' and the value that is passed in to the function (i.e. myfunc(5)) will be\n",
    "    # assigned to 'n'. In this case 5 will be assigned to n inside the function body. If we forget to pass in an\n",
    "    # argument when calling a function then we get what we call a TypeError!\n",
    "    # Note that when declaring functions, you must always include a colon (:) at the end!\n",
    "    # Remember when using def keyword to define functions: def someFunctionName():\n",
    "    if (\n",
    "        n % 2 == 0\n",
    "    ):  # We create an if statement to check if remainder of n/2 is equal to 0, % means modulus or remainder and ==\n",
    "        # means equal to operator and 0 means 0! Later on we will also cover relative comparisons such as greater\n",
    "        # than or lesser than comparisons (== means equal to!).\n",
    "        print(\n",
    "            n, \"is even\"\n",
    "        )  # Print value of n and string \"is even\" if condition returns True , this code will be executed first\n",
    "        # inside our new myfunc body! See how it works below! Next we create an else clause which if our statements\n",
    "        # condition checks return false will execute the print statement instead! See how it works below! Be sure to\n",
    "        # note the indentations with 4 spaces per line!\n",
    "    else:\n",
    "        print(\n",
    "            n, \"is odd\"\n",
    "        )  # Print value of n and string \"is odd\" else print statement inside else clause!"
   ]
  },
  {
   "cell_type": "code",
   "execution_count": null,
   "metadata": {
    "pycharm": {
     "name": "#%%\n"
    }
   },
   "outputs": [],
   "source": [
    "myfunc(\n",
    "    5\n",
    ")  # Invoke out myfunc() and pass in argument 5 via parameter n!, n's value will now be equal to 5 at this point in\n",
    "# time inside our function body! We can also just do something like replace \"if-else\" statement with another print\n",
    "# statement that returned something like: \"Please enter an integer.\", that would work as well but for now just run\n",
    "# your code so far and make sure it works before continuing on with tutorial! If you are getting syntax errors then\n",
    "# you may have forgotten to add the colons on some lines or indented improperly or did not include something we\n",
    "# covered previously!"
   ]
  }
 ],
 "metadata": {
  "kernelspec": {
   "display_name": "Python 3",
   "language": "python",
   "name": "python3"
  },
  "language_info": {
   "codemirror_mode": {
    "name": "ipython",
    "version": 3
   },
   "file_extension": ".py",
   "mimetype": "text/x-python",
   "name": "python",
   "nbconvert_exporter": "python",
   "pygments_lexer": "ipython3",
   "version": "3.7.7"
  }
 },
 "nbformat": 4,
 "nbformat_minor": 2
}
